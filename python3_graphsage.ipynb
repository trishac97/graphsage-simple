{
  "nbformat": 4,
  "nbformat_minor": 0,
  "metadata": {
    "colab": {
      "name": "python3-graphsage.ipynb",
      "provenance": [],
      "collapsed_sections": [],
      "authorship_tag": "ABX9TyMBnt6/4YpXqvR++3rU1zo2",
      "include_colab_link": true
    },
    "kernelspec": {
      "name": "python3",
      "display_name": "Python 3"
    },
    "language_info": {
      "name": "python"
    }
  },
  "cells": [
    {
      "cell_type": "markdown",
      "metadata": {
        "id": "view-in-github",
        "colab_type": "text"
      },
      "source": [
        "<a href=\"https://colab.research.google.com/github/trishac97/graphsage-simple/blob/master/python3_graphsage.ipynb\" target=\"_parent\"><img src=\"https://colab.research.google.com/assets/colab-badge.svg\" alt=\"Open In Colab\"/></a>"
      ]
    },
    {
      "cell_type": "code",
      "metadata": {
        "colab": {
          "base_uri": "https://localhost:8080/"
        },
        "id": "l_4Diee7Lwb3",
        "outputId": "465a3d32-b1b1-4538-93ab-dd0344d5fee8"
      },
      "source": [
        "!git clone https://github.com/trishac97/graphsage-simple.git"
      ],
      "execution_count": null,
      "outputs": [
        {
          "output_type": "stream",
          "name": "stdout",
          "text": [
            "Cloning into 'graphsage-simple'...\n",
            "remote: Enumerating objects: 55, done.\u001b[K\n",
            "remote: Counting objects: 100% (55/55), done.\u001b[K\n",
            "remote: Compressing objects: 100% (31/31), done.\u001b[K\n",
            "remote: Total 55 (delta 22), reused 55 (delta 22), pack-reused 0\u001b[K\n",
            "Unpacking objects: 100% (55/55), done.\n"
          ]
        }
      ]
    },
    {
      "cell_type": "code",
      "metadata": {
        "colab": {
          "base_uri": "https://localhost:8080/"
        },
        "id": "MhLhzOdvL4uW",
        "outputId": "beed9469-c197-4038-814a-80f7a2b837ed"
      },
      "source": [
        "cd graphsage-simple/"
      ],
      "execution_count": null,
      "outputs": [
        {
          "output_type": "stream",
          "name": "stdout",
          "text": [
            "/content/graphsage-simple\n"
          ]
        }
      ]
    },
    {
      "cell_type": "code",
      "metadata": {
        "colab": {
          "base_uri": "https://localhost:8080/"
        },
        "id": "WvIeVdq6L1Dv",
        "outputId": "079a8636-42c4-4fcb-efe3-973c81d581d8"
      },
      "source": [
        "#(2.1) Run GraphSAGE on the Cora dataset and show the accuracy and runtime\n",
        "%run graphsage/model.py \n",
        "#Fix tensor dim loss.data line 102"
      ],
      "execution_count": null,
      "outputs": [
        {
          "output_type": "stream",
          "name": "stderr",
          "text": [
            "/content/graphsage-simple/graphsage/encoders.py:31: UserWarning: nn.init.xavier_uniform is now deprecated in favor of nn.init.xavier_uniform_.\n",
            "  init.xavier_uniform(self.weight)\n",
            "/content/graphsage-simple/graphsage/model.py:28: UserWarning: nn.init.xavier_uniform is now deprecated in favor of nn.init.xavier_uniform_.\n",
            "  init.xavier_uniform(self.weight)\n"
          ]
        },
        {
          "output_type": "stream",
          "name": "stdout",
          "text": [
            "0 tensor(1.9405)\n",
            "1 tensor(1.9181)\n",
            "2 tensor(1.8830)\n",
            "3 tensor(1.8554)\n",
            "4 tensor(1.8099)\n",
            "5 tensor(1.7714)\n",
            "6 tensor(1.7452)\n",
            "7 tensor(1.7070)\n",
            "8 tensor(1.6432)\n",
            "9 tensor(1.6033)\n",
            "10 tensor(1.4932)\n",
            "11 tensor(1.4663)\n",
            "12 tensor(1.3986)\n",
            "13 tensor(1.3625)\n",
            "14 tensor(1.2940)\n",
            "15 tensor(1.2061)\n",
            "16 tensor(1.1293)\n",
            "17 tensor(1.0698)\n",
            "18 tensor(0.9040)\n",
            "19 tensor(0.8479)\n",
            "20 tensor(0.8108)\n",
            "21 tensor(0.8026)\n",
            "22 tensor(0.7186)\n",
            "23 tensor(0.6689)\n",
            "24 tensor(0.6657)\n",
            "25 tensor(0.7337)\n",
            "26 tensor(0.6329)\n",
            "27 tensor(0.7285)\n",
            "28 tensor(0.9448)\n",
            "29 tensor(1.1072)\n",
            "30 tensor(0.5435)\n",
            "31 tensor(0.6085)\n",
            "32 tensor(0.5129)\n",
            "33 tensor(0.4805)\n",
            "34 tensor(0.4589)\n",
            "35 tensor(0.4195)\n",
            "36 tensor(0.4402)\n",
            "37 tensor(0.5055)\n",
            "38 tensor(0.5144)\n",
            "39 tensor(0.6177)\n",
            "40 tensor(0.5109)\n",
            "41 tensor(0.4301)\n",
            "42 tensor(0.3620)\n",
            "43 tensor(0.3979)\n",
            "44 tensor(0.3780)\n",
            "45 tensor(0.3432)\n",
            "46 tensor(0.3115)\n",
            "47 tensor(0.3029)\n",
            "48 tensor(0.3220)\n",
            "49 tensor(0.3698)\n",
            "50 tensor(0.3154)\n",
            "51 tensor(0.3630)\n",
            "52 tensor(0.3351)\n",
            "53 tensor(0.3980)\n",
            "54 tensor(0.2834)\n",
            "55 tensor(0.3670)\n",
            "56 tensor(0.3774)\n",
            "57 tensor(0.3255)\n",
            "58 tensor(0.3308)\n",
            "59 tensor(0.2612)\n",
            "60 tensor(0.2846)\n",
            "61 tensor(0.2827)\n",
            "62 tensor(0.3453)\n",
            "63 tensor(0.2414)\n",
            "64 tensor(0.2266)\n",
            "65 tensor(0.2366)\n",
            "66 tensor(0.2587)\n",
            "67 tensor(0.3073)\n",
            "68 tensor(0.2523)\n",
            "69 tensor(0.2384)\n",
            "70 tensor(0.2522)\n",
            "71 tensor(0.1860)\n",
            "72 tensor(0.2025)\n",
            "73 tensor(0.1928)\n",
            "74 tensor(0.2061)\n",
            "75 tensor(0.2101)\n",
            "76 tensor(0.2053)\n",
            "77 tensor(0.1910)\n",
            "78 tensor(0.2387)\n",
            "79 tensor(0.1783)\n",
            "80 tensor(0.2086)\n",
            "81 tensor(0.2007)\n",
            "82 tensor(0.1964)\n",
            "83 tensor(0.2002)\n",
            "84 tensor(0.1692)\n",
            "85 tensor(0.1564)\n",
            "86 tensor(0.2003)\n",
            "87 tensor(0.1068)\n",
            "88 tensor(0.1933)\n",
            "89 tensor(0.1994)\n",
            "90 tensor(0.1940)\n",
            "91 tensor(0.1792)\n",
            "92 tensor(0.1690)\n",
            "93 tensor(0.1900)\n",
            "94 tensor(0.1720)\n",
            "95 tensor(0.1881)\n",
            "96 tensor(0.1415)\n",
            "97 tensor(0.1444)\n",
            "98 tensor(0.1710)\n",
            "99 tensor(0.1705)\n",
            "Validation F1: 0.834\n",
            "Average batch time: 0.07682594299316406\n"
          ]
        }
      ]
    },
    {
      "cell_type": "code",
      "metadata": {
        "colab": {
          "base_uri": "https://localhost:8080/"
        },
        "id": "LLglEuU-L3GG",
        "outputId": "63ea2a19-a09a-4747-8bd0-5184ea4a694e"
      },
      "source": [
        "#(2.2) Implement Max aggregator (Eq 3 in the original paper) and compare with (2.1)\n",
        "%run graphsage/model.py "
      ],
      "execution_count": null,
      "outputs": [
        {
          "output_type": "stream",
          "name": "stderr",
          "text": [
            "/content/graphsage-simple/graphsage/encoders.py:31: UserWarning: nn.init.xavier_uniform is now deprecated in favor of nn.init.xavier_uniform_.\n",
            "  init.xavier_uniform(self.weight)\n",
            "/content/graphsage-simple/graphsage/model.py:28: UserWarning: nn.init.xavier_uniform is now deprecated in favor of nn.init.xavier_uniform_.\n",
            "  init.xavier_uniform(self.weight)\n"
          ]
        },
        {
          "output_type": "stream",
          "name": "stdout",
          "text": [
            "0 tensor(1.9454)\n",
            "1 tensor(1.9208)\n",
            "2 tensor(1.9009)\n",
            "3 tensor(1.8766)\n",
            "4 tensor(1.8382)\n",
            "5 tensor(1.8042)\n",
            "6 tensor(1.7670)\n",
            "7 tensor(1.7279)\n",
            "8 tensor(1.6703)\n",
            "9 tensor(1.6342)\n",
            "10 tensor(1.5254)\n",
            "11 tensor(1.4996)\n",
            "12 tensor(1.4447)\n",
            "13 tensor(1.4165)\n",
            "14 tensor(1.3545)\n",
            "15 tensor(1.2826)\n",
            "16 tensor(1.2252)\n",
            "17 tensor(1.1697)\n",
            "18 tensor(0.9881)\n",
            "19 tensor(0.9470)\n",
            "20 tensor(0.9215)\n",
            "21 tensor(0.8969)\n",
            "22 tensor(0.8091)\n",
            "23 tensor(0.7588)\n",
            "24 tensor(0.7290)\n",
            "25 tensor(0.7488)\n",
            "26 tensor(0.6451)\n",
            "27 tensor(0.6252)\n",
            "28 tensor(0.6404)\n",
            "29 tensor(0.5906)\n",
            "30 tensor(0.5305)\n",
            "31 tensor(0.6252)\n",
            "32 tensor(0.6257)\n",
            "33 tensor(0.8955)\n",
            "34 tensor(1.1674)\n",
            "35 tensor(1.5935)\n",
            "36 tensor(0.5872)\n",
            "37 tensor(0.5352)\n",
            "38 tensor(0.4531)\n",
            "39 tensor(0.5002)\n",
            "40 tensor(0.5074)\n",
            "41 tensor(0.4203)\n",
            "42 tensor(0.3733)\n",
            "43 tensor(0.4139)\n",
            "44 tensor(0.4162)\n",
            "45 tensor(0.3620)\n",
            "46 tensor(0.3371)\n",
            "47 tensor(0.3205)\n",
            "48 tensor(0.3505)\n",
            "49 tensor(0.3865)\n",
            "50 tensor(0.3222)\n",
            "51 tensor(0.3727)\n",
            "52 tensor(0.3126)\n",
            "53 tensor(0.4045)\n",
            "54 tensor(0.2872)\n",
            "55 tensor(0.3476)\n",
            "56 tensor(0.3248)\n",
            "57 tensor(0.2562)\n",
            "58 tensor(0.3124)\n",
            "59 tensor(0.2505)\n",
            "60 tensor(0.2915)\n",
            "61 tensor(0.3032)\n",
            "62 tensor(0.3645)\n",
            "63 tensor(0.2552)\n",
            "64 tensor(0.2274)\n",
            "65 tensor(0.2528)\n",
            "66 tensor(0.2834)\n",
            "67 tensor(0.3370)\n",
            "68 tensor(0.2761)\n",
            "69 tensor(0.2408)\n",
            "70 tensor(0.2524)\n",
            "71 tensor(0.1990)\n",
            "72 tensor(0.2124)\n",
            "73 tensor(0.2074)\n",
            "74 tensor(0.2103)\n",
            "75 tensor(0.2211)\n",
            "76 tensor(0.2200)\n",
            "77 tensor(0.2116)\n",
            "78 tensor(0.2587)\n",
            "79 tensor(0.2001)\n",
            "80 tensor(0.2057)\n",
            "81 tensor(0.2048)\n",
            "82 tensor(0.2119)\n",
            "83 tensor(0.2120)\n",
            "84 tensor(0.1929)\n",
            "85 tensor(0.1681)\n",
            "86 tensor(0.2177)\n",
            "87 tensor(0.1161)\n",
            "88 tensor(0.2108)\n",
            "89 tensor(0.2172)\n",
            "90 tensor(0.2009)\n",
            "91 tensor(0.1882)\n",
            "92 tensor(0.1703)\n",
            "93 tensor(0.1900)\n",
            "94 tensor(0.1762)\n",
            "95 tensor(0.2017)\n",
            "96 tensor(0.1390)\n",
            "97 tensor(0.1510)\n",
            "98 tensor(0.1811)\n",
            "99 tensor(0.1752)\n",
            "Validation F1: 0.8459999999999999\n",
            "Average batch time: 0.074984130859375\n"
          ]
        }
      ]
    },
    {
      "cell_type": "code",
      "metadata": {
        "id": "nbKh0of6NW10",
        "colab": {
          "base_uri": "https://localhost:8080/"
        },
        "outputId": "4c231005-efc7-4f38-8482-a43d6f613fec"
      },
      "source": [
        "#(2.2) Implement Max aggregator (Eq 3 in the original paper) and compare with (2.1)\n",
        "%run graphsage/model.py \n",
        "#  num_neigh = mask.max(1, keepdim=True)\n",
        "        #mask = mask.div(num_neigh)"
      ],
      "execution_count": null,
      "outputs": [
        {
          "output_type": "stream",
          "name": "stderr",
          "text": [
            "/content/graphsage-simple/graphsage/encoders.py:31: UserWarning: nn.init.xavier_uniform is now deprecated in favor of nn.init.xavier_uniform_.\n",
            "  init.xavier_uniform(self.weight)\n",
            "/content/graphsage-simple/graphsage/model.py:28: UserWarning: nn.init.xavier_uniform is now deprecated in favor of nn.init.xavier_uniform_.\n",
            "  init.xavier_uniform(self.weight)\n"
          ]
        },
        {
          "output_type": "stream",
          "name": "stdout",
          "text": [
            "0 tensor(2.0879)\n",
            "1 tensor(11.4071)\n",
            "2 tensor(54.5426)\n",
            "3 tensor(189.3553)\n",
            "4 tensor(271.8537)\n",
            "5 tensor(22230.3008)\n",
            "6 tensor(975.1462)\n",
            "7 tensor(9735.2422)\n",
            "8 tensor(191320.1562)\n",
            "9 tensor(479813.1562)\n",
            "10 tensor(41580.4609)\n",
            "11 tensor(1.2157e+11)\n",
            "12 tensor(1.9580e+10)\n",
            "13 tensor(2.2418e+11)\n",
            "14 tensor(8.0047e+08)\n",
            "15 tensor(6.6482e+17)\n",
            "16 tensor(4.0387e+12)\n",
            "17 tensor(1.9459)\n",
            "18 tensor(1.9459)\n",
            "19 tensor(1.9459)\n",
            "20 tensor(1.9459)\n",
            "21 tensor(1.9459)\n",
            "22 tensor(1.9459)\n",
            "23 tensor(1.9459)\n",
            "24 tensor(1.9459)\n",
            "25 tensor(1.9459)\n",
            "26 tensor(1.9459)\n",
            "27 tensor(1.9459)\n",
            "28 tensor(1.9459)\n",
            "29 tensor(1.9459)\n",
            "30 tensor(1.9459)\n",
            "31 tensor(1.9459)\n",
            "32 tensor(1.9459)\n",
            "33 tensor(1.9459)\n",
            "34 tensor(1.9459)\n",
            "35 tensor(1.9459)\n",
            "36 tensor(1.9459)\n",
            "37 tensor(1.9459)\n",
            "38 tensor(1.9459)\n",
            "39 tensor(1.9459)\n",
            "40 tensor(1.9459)\n",
            "41 tensor(1.9459)\n",
            "42 tensor(1.9459)\n",
            "43 tensor(1.9459)\n",
            "44 tensor(1.9459)\n",
            "45 tensor(1.9459)\n",
            "46 tensor(1.9459)\n",
            "47 tensor(1.9459)\n",
            "48 tensor(1.9459)\n",
            "49 tensor(1.9459)\n",
            "50 tensor(1.9459)\n",
            "51 tensor(1.9459)\n",
            "52 tensor(1.9459)\n",
            "53 tensor(1.9459)\n",
            "54 tensor(1.9459)\n",
            "55 tensor(1.9459)\n",
            "56 tensor(1.9459)\n",
            "57 tensor(1.9459)\n",
            "58 tensor(1.9459)\n",
            "59 tensor(1.9459)\n",
            "60 tensor(1.9459)\n",
            "61 tensor(1.9459)\n",
            "62 tensor(1.9459)\n",
            "63 tensor(1.9459)\n",
            "64 tensor(1.9459)\n",
            "65 tensor(1.9459)\n",
            "66 tensor(1.9459)\n",
            "67 tensor(1.9459)\n",
            "68 tensor(1.9459)\n",
            "69 tensor(1.9459)\n",
            "70 tensor(1.9459)\n",
            "71 tensor(1.9459)\n",
            "72 tensor(1.9459)\n",
            "73 tensor(1.9459)\n",
            "74 tensor(1.9459)\n",
            "75 tensor(1.9459)\n",
            "76 tensor(1.9459)\n",
            "77 tensor(1.9459)\n",
            "78 tensor(1.9459)\n",
            "79 tensor(1.9459)\n",
            "80 tensor(1.9459)\n",
            "81 tensor(1.9459)\n",
            "82 tensor(1.9459)\n",
            "83 tensor(1.9459)\n",
            "84 tensor(1.9459)\n",
            "85 tensor(1.9459)\n",
            "86 tensor(1.9459)\n",
            "87 tensor(1.9459)\n",
            "88 tensor(1.9459)\n",
            "89 tensor(1.9459)\n",
            "90 tensor(1.9459)\n",
            "91 tensor(1.9459)\n",
            "92 tensor(1.9459)\n",
            "93 tensor(1.9459)\n",
            "94 tensor(1.9459)\n",
            "95 tensor(1.9459)\n",
            "96 tensor(1.9459)\n",
            "97 tensor(1.9459)\n",
            "98 tensor(1.9459)\n",
            "99 tensor(1.9459)\n",
            "Validation F1: 0.32\n",
            "Average batch time: 0.07256806373596192\n"
          ]
        }
      ]
    }
  ]
}